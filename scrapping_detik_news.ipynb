{
  "nbformat": 4,
  "nbformat_minor": 0,
  "metadata": {
    "colab": {
      "provenance": []
    },
    "kernelspec": {
      "name": "python3",
      "display_name": "Python 3"
    },
    "language_info": {
      "name": "python"
    }
  },
  "cells": [
    {
      "cell_type": "code",
      "execution_count": 1,
      "metadata": {
        "id": "zlFkYKWElUxH"
      },
      "outputs": [],
      "source": [
        "import requests as req\n",
        "from bs4 import BeautifulSoup as bs\n",
        "from datetime import datetime\n",
        "import csv\n",
        "hades = {'user-agent': 'Mozilla/5.0 (Windows NT 10.0; Win64; x64) AppleWebKit/537.36 (KHTML, like Gecko) Chrome/106.0.0.0 Safari/537.36'}"
      ]
    },
    {
      "cell_type": "code",
      "source": [
        "def scrape_detik(hal):\n",
        "    global hades\n",
        "    a = 1\n",
        "    for page in range(1,hal):\n",
        "        url = f'https://www.detik.com/search/searchnews?query=mobil+terlaris+2023&sortby=time&page={page}'\n",
        "        ge = req.get(url,hades).text\n",
        "        sop = bs(ge,'lxml')\n",
        "        li = sop.find('div',class_='list media_rows list-berita')\n",
        "        lin = li.find_all('article')\n",
        "        for x in lin:\n",
        "            link = x.find('a')['href']\n",
        "            date = x.find('a').find('span',class_='date').text.replace('WIB','').replace('detikNews','').split(',')[1]\n",
        "            headline = x.find('a').find('h2').text\n",
        "            ge_ = req.get(link,hades).text\n",
        "            sop_ = bs(ge_,'lxml')\n",
        "            content = sop_.find_all('div',class_='detail__body-text itp_bodycontent')\n",
        "            for x in content:\n",
        "                x = x.find_all('p')\n",
        "                y  = [y.text for y in x ]\n",
        "                content_ = ''.join(y).replace('\\n', '').replace('ADVERTISEMENT','').replace('SCROLL TO RESUME CONTENT','')\n",
        "                print(f'done[{a}] > {headline[0:10]}')\n",
        "                a += 1\n",
        "                with open('most-selling-car-2023(detik).csv','a')as file:\n",
        "                    wr = csv.writer(file, delimiter=',')\n",
        "                    wr.writerow([headline,date,link,content_])"
      ],
      "metadata": {
        "id": "qZwtiBdXlZ7C"
      },
      "execution_count": 2,
      "outputs": []
    },
    {
      "cell_type": "code",
      "source": [
        "scrape_detik(5)"
      ],
      "metadata": {
        "colab": {
          "base_uri": "https://localhost:8080/"
        },
        "id": "IluOoTVXlnGe",
        "outputId": "f0b780fa-8cc7-4939-9ea1-da5a76b2fc2d"
      },
      "execution_count": null,
      "outputs": [
        {
          "output_type": "stream",
          "name": "stdout",
          "text": [
            "done[1] > Daftar Mob\n",
            "done[2] > Penjualan \n",
            "done[3] > Avanza dan\n",
            "done[4] > Bukan Rock\n",
            "done[5] > Beda denga\n",
            "done[6] > Harga Jual\n",
            "done[7] > Kata Toyot\n",
            "done[8] > Harganya R\n",
            "done[9] > Bukti Oran\n",
            "done[10] > Toyota soa\n",
            "done[11] > Mobil Mung\n",
            "done[12] > Mobil Chin\n",
            "done[13] > Rush, XL7,\n",
            "done[14] > Yang Lain \n",
            "done[15] > Intip Spek\n",
            "done[16] > Merek Mobi\n",
            "done[17] > Honda Jual\n",
            "done[18] > Laris Mani\n",
            "done[19] > Soal Mobil\n",
            "done[20] > 80 Juta Mo\n",
            "done[21] > Toyota Sia\n",
            "done[22] > Harganya M\n",
            "done[23] > Babak Baru\n",
            "done[24] > Mobil Terl\n",
            "done[25] > 27 Tahun B\n",
            "done[26] > Penjualan \n",
            "done[27] > Honda HR-V\n",
            "done[28] > Mobil List\n",
            "done[29] > 20 Mobil T\n",
            "done[30] > Geser Avan\n",
            "done[31] > Mobil Chin\n",
            "done[32] > 20 Merek M\n"
          ]
        }
      ]
    },
    {
      "cell_type": "code",
      "source": [
        "import pandas as pd\n",
        "rd = pd.read_csv('/content/most-selling-car-2023(detik).csv', nrows=25)\n",
        "rd"
      ],
      "metadata": {
        "id": "YVivH_A9mQs0"
      },
      "execution_count": null,
      "outputs": []
    }
  ]
}